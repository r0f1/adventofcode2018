{
 "cells": [
  {
   "cell_type": "code",
   "execution_count": 1,
   "metadata": {
    "ExecuteTime": {
     "end_time": "2018-12-11T18:04:43.919621Z",
     "start_time": "2018-12-11T18:04:43.912616Z"
    }
   },
   "outputs": [],
   "source": [
    "n = 7689"
   ]
  },
  {
   "cell_type": "code",
   "execution_count": 2,
   "metadata": {
    "ExecuteTime": {
     "end_time": "2018-12-11T18:04:44.323610Z",
     "start_time": "2018-12-11T18:04:43.923615Z"
    }
   },
   "outputs": [],
   "source": [
    "from itertools import product\n",
    "from math import ceil\n",
    "import numpy as np\n",
    "from scipy import ndimage"
   ]
  },
  {
   "cell_type": "code",
   "execution_count": 3,
   "metadata": {
    "ExecuteTime": {
     "end_time": "2018-12-11T18:04:44.408689Z",
     "start_time": "2018-12-11T18:04:44.326613Z"
    }
   },
   "outputs": [],
   "source": [
    "a = np.zeros((300,300), dtype=int)\n",
    "for x, y in product(range(300), range(300)):\n",
    "    rack_id = x+1+10\n",
    "    power_level = rack_id*(y+1) + n\n",
    "    a[y,x] = (int((power_level*rack_id) / 100) % 10)-5"
   ]
  },
  {
   "cell_type": "markdown",
   "metadata": {},
   "source": [
    "# Part 1"
   ]
  },
  {
   "cell_type": "code",
   "execution_count": 4,
   "metadata": {
    "ExecuteTime": {
     "end_time": "2018-12-11T18:04:44.417617Z",
     "start_time": "2018-12-11T18:04:44.411614Z"
    }
   },
   "outputs": [],
   "source": [
    "k = np.ones((3,3), dtype=int)\n",
    "m = ndimage.convolve(a, k, mode='constant', cval=0)"
   ]
  },
  {
   "cell_type": "code",
   "execution_count": 5,
   "metadata": {
    "ExecuteTime": {
     "end_time": "2018-12-11T18:04:44.442626Z",
     "start_time": "2018-12-11T18:04:44.419618Z"
    }
   },
   "outputs": [
    {
     "data": {
      "text/plain": [
       "(20, 37)"
      ]
     },
     "execution_count": 5,
     "metadata": {},
     "output_type": "execute_result"
    }
   ],
   "source": [
    "y, x = np.unravel_index(m.argmax(), m.shape)\n",
    "x, y"
   ]
  },
  {
   "cell_type": "markdown",
   "metadata": {},
   "source": [
    "# Part 2"
   ]
  },
  {
   "cell_type": "code",
   "execution_count": 6,
   "metadata": {
    "ExecuteTime": {
     "end_time": "2018-12-11T18:04:44.838619Z",
     "start_time": "2018-12-11T18:04:44.445615Z"
    }
   },
   "outputs": [
    {
     "name": "stdout",
     "output_type": "stream",
     "text": [
      "1 2 3 4 5 6 7 8 9 10 11 12 13 14 15 16 17 18 19 20 "
     ]
    }
   ],
   "source": [
    "r = []\n",
    "for i in range(1, 21):\n",
    "    k = np.ones((i,i), dtype=int)\n",
    "    m = ndimage.convolve(a, k, mode='constant', cval=0)\n",
    "    r.append((np.max(m), i))\n",
    "    print(i, end=\" \")"
   ]
  },
  {
   "cell_type": "code",
   "execution_count": 7,
   "metadata": {
    "ExecuteTime": {
     "end_time": "2018-12-11T18:04:44.846626Z",
     "start_time": "2018-12-11T18:04:44.840617Z"
    }
   },
   "outputs": [
    {
     "data": {
      "text/plain": [
       "(103, 15)"
      ]
     },
     "execution_count": 7,
     "metadata": {},
     "output_type": "execute_result"
    }
   ],
   "source": [
    "r.sort(reverse=True)\n",
    "maximum, i = r[0]\n",
    "maximum, i"
   ]
  },
  {
   "cell_type": "code",
   "execution_count": 8,
   "metadata": {
    "ExecuteTime": {
     "end_time": "2018-12-11T18:04:44.900645Z",
     "start_time": "2018-12-11T18:04:44.849614Z"
    },
    "run_control": {
     "marked": false
    }
   },
   "outputs": [
    {
     "data": {
      "text/plain": [
       "(90, 169, 15)"
      ]
     },
     "execution_count": 8,
     "metadata": {},
     "output_type": "execute_result"
    }
   ],
   "source": [
    "k = np.ones((i,i), dtype=int)\n",
    "m = ndimage.convolve(a, k, mode='constant', cval=0)\n",
    "y, x = np.unravel_index(m.argmax(), m.shape)\n",
    "c = ceil(i / 2 - 2)\n",
    "x-c, y-c, i"
   ]
  }
 ],
 "metadata": {
  "kernelspec": {
   "display_name": "Python 3",
   "language": "python",
   "name": "python3"
  },
  "language_info": {
   "codemirror_mode": {
    "name": "ipython",
    "version": 3
   },
   "file_extension": ".py",
   "mimetype": "text/x-python",
   "name": "python",
   "nbconvert_exporter": "python",
   "pygments_lexer": "ipython3",
   "version": "3.6.5"
  },
  "varInspector": {
   "cols": {
    "lenName": 16,
    "lenType": 16,
    "lenVar": 40
   },
   "kernels_config": {
    "python": {
     "delete_cmd_postfix": "",
     "delete_cmd_prefix": "del ",
     "library": "var_list.py",
     "varRefreshCmd": "print(var_dic_list())"
    },
    "r": {
     "delete_cmd_postfix": ") ",
     "delete_cmd_prefix": "rm(",
     "library": "var_list.r",
     "varRefreshCmd": "cat(var_dic_list()) "
    }
   },
   "types_to_exclude": [
    "module",
    "function",
    "builtin_function_or_method",
    "instance",
    "_Feature"
   ],
   "window_display": false
  }
 },
 "nbformat": 4,
 "nbformat_minor": 2
}
