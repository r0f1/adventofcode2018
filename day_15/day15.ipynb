{
 "cells": [
  {
   "cell_type": "code",
   "execution_count": 1,
   "metadata": {
    "ExecuteTime": {
     "end_time": "2018-12-16T00:26:46.720539Z",
     "start_time": "2018-12-16T00:26:46.168759Z"
    }
   },
   "outputs": [],
   "source": [
    "%matplotlib inline  \n",
    "import matplotlib.pyplot as plt\n",
    "from more_itertools import with_iter\n",
    "from networkx import draw\n",
    "from networkx import Graph\n",
    "from networkx import bfs_successors\n",
    "from networkx import bfs_tree\n",
    "from networkx import shortest_path"
   ]
  },
  {
   "cell_type": "code",
   "execution_count": 2,
   "metadata": {
    "ExecuteTime": {
     "end_time": "2018-12-16T00:26:46.725538Z",
     "start_time": "2018-12-16T00:26:46.722535Z"
    }
   },
   "outputs": [],
   "source": [
    "# lines = [l.strip() for l in with_iter(open(\"input.txt\"))]\n",
    "lines = [l.strip() for l in with_iter(open(\"test.txt\"))]"
   ]
  },
  {
   "cell_type": "code",
   "execution_count": 3,
   "metadata": {
    "ExecuteTime": {
     "end_time": "2018-12-16T00:26:46.741514Z",
     "start_time": "2018-12-16T00:26:46.727555Z"
    }
   },
   "outputs": [],
   "source": [
    "from itertools import product"
   ]
  },
  {
   "cell_type": "code",
   "execution_count": 4,
   "metadata": {
    "ExecuteTime": {
     "end_time": "2018-12-16T00:26:46.751549Z",
     "start_time": "2018-12-16T00:26:46.743479Z"
    }
   },
   "outputs": [],
   "source": [
    "class Actor(object):\n",
    "    def __init__(self, name):\n",
    "        self.name = name\n",
    "        self.hp = 200"
   ]
  },
  {
   "cell_type": "code",
   "execution_count": 5,
   "metadata": {
    "ExecuteTime": {
     "end_time": "2018-12-16T00:26:46.771404Z",
     "start_time": "2018-12-16T00:26:46.752454Z"
    }
   },
   "outputs": [
    {
     "name": "stdout",
     "output_type": "stream",
     "text": [
      "#########\n",
      "#G..G..G#\n",
      "#.......#\n",
      "#.......#\n",
      "#G..E..G#\n",
      "#.......#\n",
      "#.......#\n",
      "#G..G..G#\n",
      "#########\n",
      "#########\n",
      "#.G...G.#\n",
      "#...G...#\n",
      "#...E..G#\n",
      "#.G.....#\n",
      "#.......#\n",
      "#G..G..G#\n",
      "#.......#\n",
      "#########\n",
      "#########\n",
      "#..G.G..#\n",
      "#...G...#\n",
      "#.G.E.G.#\n",
      "#.......#\n",
      "#G..G..G#\n",
      "#.......#\n",
      "#.......#\n",
      "#########\n",
      "#########\n",
      "#...G...#\n",
      "#...G...#\n",
      "#..GEG..#\n",
      "#G..G..G#\n",
      "#.......#\n",
      "#.......#\n",
      "#.......#\n",
      "#########\n"
     ]
    }
   ],
   "source": [
    "class PlayingField(object):\n",
    "    def __init__(self, lines):\n",
    "        self.lines = lines\n",
    "        self.height = len(lines) \n",
    "        self.width = len(lines[0]) \n",
    "        self.lines_cleared = [l.replace(\"G\", \".\").replace(\"E\", \".\") for l in self.lines]\n",
    "        self.graph = Graph()\n",
    "        \n",
    "        node_counter = 0\n",
    "        for y, line in enumerate(self.lines):\n",
    "            for x, c in enumerate(line):\n",
    "                if c != '#': \n",
    "                    if c in (\"E\", \"G\"):\n",
    "                        self.graph.add_node((y,x), actor=Actor(c))\n",
    "                    else:\n",
    "                        self.graph.add_node((y,x), actor=None)\n",
    "                        \n",
    "        for (y,x) in product(range(self.height), range(self.width)):\n",
    "            if (y,x) in self.graph.nodes:\n",
    "                for nei in [(y-1,x), (y,x-1), (y,x+1), (y+1,x)]:\n",
    "                    if nei in self.graph.nodes:\n",
    "                        self.graph.add_edge(nei,(y,x))\n",
    "            \n",
    "    def move(self):\n",
    "        should_move = []\n",
    "        for n in pf.graph.nodes():\n",
    "            a = self.graph.node[n][\"actor\"]\n",
    "            if a is not None:\n",
    "                for nei in self.graph.neighbors(n):\n",
    "                    an = self.graph.node[nei][\"actor\"]\n",
    "                    if an is not None and an.name != a.name:\n",
    "                        break\n",
    "                else:\n",
    "                    should_move.append(n)\n",
    "                        \n",
    "        for n in should_move:\n",
    "            name = self.graph.node[n][\"actor\"].name\n",
    "            bfs = bfs_tree(self.graph, n)\n",
    "            found = None\n",
    "            for nei in bfs:\n",
    "                a = self.graph.node[nei][\"actor\"]\n",
    "                if a is not None and a.name != name:\n",
    "                    found = nei\n",
    "                    break\n",
    "            sp = shortest_path(self.graph, n, found)\n",
    "            self.move_actor(n, sp[1])            \n",
    "#             print(shortest_path(self.graph, n, found))\n",
    "#             break\n",
    "#             for nei in bfs:\n",
    "#                 print(nei)\n",
    "#                 if nei == found:\n",
    "#                     break\n",
    "# #             print(list(bfs))\n",
    "#             break\n",
    "        \n",
    "    def move_actor(self, node_from, node_to):\n",
    "        a = self.graph.node[node_from][\"actor\"]\n",
    "        self.graph.node[node_from][\"actor\"] = None\n",
    "        self.graph.node[node_to][\"actor\"] = a\n",
    "    \n",
    "    def __repr__(self):\n",
    "        r = self.lines_cleared.copy()\n",
    "        for n in self.graph.nodes():\n",
    "            a = self.graph.node[n][\"actor\"]\n",
    "            if a is not None:\n",
    "                y, x = n\n",
    "                s = list(r[y])\n",
    "                s[x] = a.name\n",
    "                r[y] = \"\".join(s)\n",
    "        return \"\\n\".join(r)\n",
    "\n",
    "pf = PlayingField(lines)\n",
    "print(pf)\n",
    "pf.move()\n",
    "print(pf)\n",
    "pf.move()\n",
    "print(pf)\n",
    "pf.move()\n",
    "print(pf)"
   ]
  }
 ],
 "metadata": {
  "kernelspec": {
   "display_name": "Python 3",
   "language": "python",
   "name": "python3"
  },
  "language_info": {
   "codemirror_mode": {
    "name": "ipython",
    "version": 3
   },
   "file_extension": ".py",
   "mimetype": "text/x-python",
   "name": "python",
   "nbconvert_exporter": "python",
   "pygments_lexer": "ipython3",
   "version": "3.7.0"
  }
 },
 "nbformat": 4,
 "nbformat_minor": 2
}
