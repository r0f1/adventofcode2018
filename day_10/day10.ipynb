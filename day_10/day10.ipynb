{
 "cells": [
  {
   "cell_type": "code",
   "execution_count": 1,
   "metadata": {
    "ExecuteTime": {
     "end_time": "2018-12-10T17:56:46.658706Z",
     "start_time": "2018-12-10T17:56:46.102642Z"
    }
   },
   "outputs": [],
   "source": [
    "%matplotlib inline\n",
    "import matplotlib.pyplot as plt\n",
    "from more_itertools import with_iter\n",
    "import pandas as pd\n",
    "import re"
   ]
  },
  {
   "cell_type": "code",
   "execution_count": 2,
   "metadata": {
    "ExecuteTime": {
     "end_time": "2018-12-10T17:56:46.670653Z",
     "start_time": "2018-12-10T17:56:46.660644Z"
    }
   },
   "outputs": [],
   "source": [
    "lines = [[int(i) for i in re.findall(r'-?\\d+', l.strip())] for l in with_iter(open('input.txt'))]"
   ]
  },
  {
   "cell_type": "code",
   "execution_count": 3,
   "metadata": {
    "ExecuteTime": {
     "end_time": "2018-12-10T17:56:46.689677Z",
     "start_time": "2018-12-10T17:56:46.673647Z"
    }
   },
   "outputs": [
    {
     "data": {
      "text/plain": [
       "[[20316, -30055, -2, 3],\n",
       " [-30043, -30055, 3, 3],\n",
       " [-19955, 40468, 2, -4],\n",
       " [-19981, -30055, 2, 3],\n",
       " [30386, 30399, -3, -3]]"
      ]
     },
     "execution_count": 3,
     "metadata": {},
     "output_type": "execute_result"
    }
   ],
   "source": [
    "lines[:5]"
   ]
  },
  {
   "cell_type": "code",
   "execution_count": 4,
   "metadata": {
    "ExecuteTime": {
     "end_time": "2018-12-10T17:56:46.706654Z",
     "start_time": "2018-12-10T17:56:46.691673Z"
    }
   },
   "outputs": [],
   "source": [
    "dists = []"
   ]
  },
  {
   "cell_type": "code",
   "execution_count": 5,
   "metadata": {
    "ExecuteTime": {
     "end_time": "2018-12-10T17:56:49.252698Z",
     "start_time": "2018-12-10T17:56:46.710701Z"
    }
   },
   "outputs": [],
   "source": [
    "for i in range(20000):\n",
    "    xs = [x + i * vx for (x, _, vx, _) in lines]\n",
    "    ys = [y + i * vy for (_, y, _, vy) in lines]\n",
    "    dists.append(max(xs)-min(xs) + max(ys)-min(ys))"
   ]
  },
  {
   "cell_type": "code",
   "execution_count": 6,
   "metadata": {
    "ExecuteTime": {
     "end_time": "2018-12-10T17:56:49.259663Z",
     "start_time": "2018-12-10T17:56:49.254718Z"
    }
   },
   "outputs": [],
   "source": [
    "#pd.Series(dists).plot(figsize=(15,6));"
   ]
  },
  {
   "cell_type": "code",
   "execution_count": 7,
   "metadata": {
    "ExecuteTime": {
     "end_time": "2018-12-10T17:56:49.282667Z",
     "start_time": "2018-12-10T17:56:49.262664Z"
    }
   },
   "outputs": [
    {
     "data": {
      "text/plain": [
       "(10076, 70)"
      ]
     },
     "execution_count": 7,
     "metadata": {},
     "output_type": "execute_result"
    }
   ],
   "source": [
    "min_val = min(dists)\n",
    "min_idx = dists.index(min_val)\n",
    "min_idx, min_val"
   ]
  },
  {
   "cell_type": "markdown",
   "metadata": {},
   "source": [
    "# Part 1"
   ]
  },
  {
   "cell_type": "code",
   "execution_count": 8,
   "metadata": {
    "ExecuteTime": {
     "end_time": "2018-12-10T17:56:49.307667Z",
     "start_time": "2018-12-10T17:56:49.285665Z"
    },
    "scrolled": true
   },
   "outputs": [
    {
     "name": "stdout",
     "output_type": "stream",
     "text": [
      "*****   *****    ****   ******    **    ******  *****   *****\n",
      "*    *  *    *  *    *       *   *  *   *       *    *  *    *\n",
      "*    *  *    *  *            *  *    *  *       *    *  *    *\n",
      "*    *  *    *  *           *   *    *  *       *    *  *    *\n",
      "*****   *****   *          *    *    *  *****   *****   *****\n",
      "*  *    *    *  *         *     ******  *       *       *\n",
      "*   *   *    *  *        *      *    *  *       *       *\n",
      "*   *   *    *  *       *       *    *  *       *       *\n",
      "*    *  *    *  *    *  *       *    *  *       *       *\n",
      "*    *  *****    ****   ******  *    *  ******  *       *\n"
     ]
    }
   ],
   "source": [
    "l = [[' '] * 200 for j in range(400)]\n",
    "for (x, y, vx, vy) in lines:\n",
    "    l[y + min_idx * vy][x + min_idx * vx - 250] = '*'\n",
    "\n",
    "for m in l:\n",
    "    s = ''.join(m).strip()\n",
    "    if len(s) > 0:\n",
    "        print(s)"
   ]
  },
  {
   "cell_type": "markdown",
   "metadata": {},
   "source": [
    "# Part 2"
   ]
  },
  {
   "cell_type": "code",
   "execution_count": 9,
   "metadata": {
    "ExecuteTime": {
     "end_time": "2018-12-10T17:56:49.323663Z",
     "start_time": "2018-12-10T17:56:49.310669Z"
    }
   },
   "outputs": [
    {
     "data": {
      "text/plain": [
       "10076"
      ]
     },
     "execution_count": 9,
     "metadata": {},
     "output_type": "execute_result"
    }
   ],
   "source": [
    "min_idx"
   ]
  }
 ],
 "metadata": {
  "kernelspec": {
   "display_name": "Python 3",
   "language": "python",
   "name": "python3"
  },
  "language_info": {
   "codemirror_mode": {
    "name": "ipython",
    "version": 3
   },
   "file_extension": ".py",
   "mimetype": "text/x-python",
   "name": "python",
   "nbconvert_exporter": "python",
   "pygments_lexer": "ipython3",
   "version": "3.6.5"
  },
  "varInspector": {
   "cols": {
    "lenName": 16,
    "lenType": 16,
    "lenVar": 40
   },
   "kernels_config": {
    "python": {
     "delete_cmd_postfix": "",
     "delete_cmd_prefix": "del ",
     "library": "var_list.py",
     "varRefreshCmd": "print(var_dic_list())"
    },
    "r": {
     "delete_cmd_postfix": ") ",
     "delete_cmd_prefix": "rm(",
     "library": "var_list.r",
     "varRefreshCmd": "cat(var_dic_list()) "
    }
   },
   "types_to_exclude": [
    "module",
    "function",
    "builtin_function_or_method",
    "instance",
    "_Feature"
   ],
   "window_display": false
  }
 },
 "nbformat": 4,
 "nbformat_minor": 2
}
