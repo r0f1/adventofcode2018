{
 "cells": [
  {
   "cell_type": "code",
   "execution_count": 1,
   "metadata": {
    "ExecuteTime": {
     "end_time": "2018-12-14T19:52:38.787905Z",
     "start_time": "2018-12-14T19:52:38.780900Z"
    }
   },
   "outputs": [],
   "source": [
    "n = 293801"
   ]
  },
  {
   "cell_type": "markdown",
   "metadata": {},
   "source": [
    "# Part 1"
   ]
  },
  {
   "cell_type": "code",
   "execution_count": 2,
   "metadata": {
    "ExecuteTime": {
     "end_time": "2018-12-14T19:52:39.168890Z",
     "start_time": "2018-12-14T19:52:38.790916Z"
    }
   },
   "outputs": [
    {
     "name": "stdout",
     "output_type": "stream",
     "text": [
      "3147574107\n"
     ]
    }
   ],
   "source": [
    "q = [3,7]\n",
    "e1, e2 = 0, 1\n",
    "n_created = 0\n",
    "\n",
    "while n_created < n+10:\n",
    "    r1, r2 = q[e1], q[e2]\n",
    "    for c in str(r1+r2):\n",
    "        q.append(int(c))\n",
    "        n_created += 1\n",
    "    e1 = (e1 + 1 + r1) % len(q)\n",
    "    e2 = (e2 + 1 + r2) % len(q)\n",
    "\n",
    "print(\"\".join(str(i) for i in q[n:n+10]))"
   ]
  },
  {
   "cell_type": "markdown",
   "metadata": {
    "ExecuteTime": {
     "end_time": "2018-12-14T19:50:51.344909Z",
     "start_time": "2018-12-14T19:50:51.339906Z"
    }
   },
   "source": [
    "# Part 2"
   ]
  },
  {
   "cell_type": "code",
   "execution_count": 3,
   "metadata": {
    "ExecuteTime": {
     "end_time": "2018-12-14T19:52:39.175891Z",
     "start_time": "2018-12-14T19:52:39.171888Z"
    }
   },
   "outputs": [],
   "source": [
    "ns = str(n)"
   ]
  },
  {
   "cell_type": "code",
   "execution_count": 4,
   "metadata": {
    "ExecuteTime": {
     "end_time": "2018-12-14T19:52:39.195930Z",
     "start_time": "2018-12-14T19:52:39.178897Z"
    }
   },
   "outputs": [],
   "source": [
    "def match(haystack):\n",
    "    for nc, h in zip(reversed(ns), reversed(haystack)):\n",
    "        if nc != str(h): return False\n",
    "    return True"
   ]
  },
  {
   "cell_type": "code",
   "execution_count": 5,
   "metadata": {
    "ExecuteTime": {
     "end_time": "2018-12-14T19:53:14.446534Z",
     "start_time": "2018-12-14T19:52:39.198893Z"
    }
   },
   "outputs": [
    {
     "name": "stdout",
     "output_type": "stream",
     "text": [
      "20280190\n"
     ]
    }
   ],
   "source": [
    "q = [3,7]\n",
    "e1, e2 = 0, 1\n",
    "\n",
    "while True:\n",
    "    r1, r2 = q[e1], q[e2]\n",
    "    for c in str(r1+r2):\n",
    "        q.append(int(c))\n",
    "        if match(q):\n",
    "            print(len(q)-len(str(n)))\n",
    "            break\n",
    "    else:\n",
    "        e1 = (e1 + 1 + r1) % len(q)\n",
    "        e2 = (e2 + 1 + r2) % len(q)\n",
    "        continue\n",
    "    break"
   ]
  }
 ],
 "metadata": {
  "kernelspec": {
   "display_name": "Python 3",
   "language": "python",
   "name": "python3"
  },
  "language_info": {
   "codemirror_mode": {
    "name": "ipython",
    "version": 3
   },
   "file_extension": ".py",
   "mimetype": "text/x-python",
   "name": "python",
   "nbconvert_exporter": "python",
   "pygments_lexer": "ipython3",
   "version": "3.6.5"
  },
  "varInspector": {
   "cols": {
    "lenName": 16,
    "lenType": 16,
    "lenVar": 40
   },
   "kernels_config": {
    "python": {
     "delete_cmd_postfix": "",
     "delete_cmd_prefix": "del ",
     "library": "var_list.py",
     "varRefreshCmd": "print(var_dic_list())"
    },
    "r": {
     "delete_cmd_postfix": ") ",
     "delete_cmd_prefix": "rm(",
     "library": "var_list.r",
     "varRefreshCmd": "cat(var_dic_list()) "
    }
   },
   "types_to_exclude": [
    "module",
    "function",
    "builtin_function_or_method",
    "instance",
    "_Feature"
   ],
   "window_display": false
  }
 },
 "nbformat": 4,
 "nbformat_minor": 2
}
