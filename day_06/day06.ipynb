{
 "cells": [
  {
   "cell_type": "code",
   "execution_count": 1,
   "metadata": {
    "ExecuteTime": {
     "end_time": "2018-12-06T17:04:29.988337Z",
     "start_time": "2018-12-06T17:04:29.775161Z"
    }
   },
   "outputs": [],
   "source": [
    "from collections import defaultdict\n",
    "from collections import Counter\n",
    "from itertools import product\n",
    "import numpy as np\n",
    "from scipy.spatial import KDTree"
   ]
  },
  {
   "cell_type": "code",
   "execution_count": 2,
   "metadata": {
    "ExecuteTime": {
     "end_time": "2018-12-06T17:04:29.995401Z",
     "start_time": "2018-12-06T17:04:29.988337Z"
    }
   },
   "outputs": [],
   "source": [
    "with open(\"input.txt\") as f:\n",
    "    coords = [(int(x.split(\",\")[0]), int(x.split(\",\")[1])) for x in f]"
   ]
  },
  {
   "cell_type": "code",
   "execution_count": 3,
   "metadata": {
    "ExecuteTime": {
     "end_time": "2018-12-06T17:04:30.014397Z",
     "start_time": "2018-12-06T17:04:29.999368Z"
    },
    "run_control": {
     "marked": false
    }
   },
   "outputs": [],
   "source": [
    "xs, ys = [x for x, y in coords], [y for x, y in coords]"
   ]
  },
  {
   "cell_type": "code",
   "execution_count": 4,
   "metadata": {
    "ExecuteTime": {
     "end_time": "2018-12-06T17:04:30.032368Z",
     "start_time": "2018-12-06T17:04:30.017372Z"
    }
   },
   "outputs": [],
   "source": [
    "t = KDTree(coords)"
   ]
  },
  {
   "cell_type": "markdown",
   "metadata": {},
   "source": [
    "# Part 1"
   ]
  },
  {
   "cell_type": "code",
   "execution_count": 5,
   "metadata": {
    "ExecuteTime": {
     "end_time": "2018-12-06T17:04:47.222513Z",
     "start_time": "2018-12-06T17:04:30.034369Z"
    }
   },
   "outputs": [],
   "source": [
    "d = defaultdict(int)\n",
    "edge = set()\n",
    "for i, j in product(range(max(xs)), range(max(ys))):\n",
    "    points, dists = t.query((i, j), k=2, p=1)\n",
    "    if i == 0 or j == 0 or i == max(xs)-1 or j == max(ys)-1:\n",
    "        edge.add(int(dists[0]))\n",
    "    if points[0] != points[1]:\n",
    "        d[(i,j)] = dists[0]"
   ]
  },
  {
   "cell_type": "code",
   "execution_count": 6,
   "metadata": {
    "ExecuteTime": {
     "end_time": "2018-12-06T17:04:47.252740Z",
     "start_time": "2018-12-06T17:04:47.222513Z"
    }
   },
   "outputs": [
    {
     "name": "stdout",
     "output_type": "stream",
     "text": [
      "4829\n"
     ]
    }
   ],
   "source": [
    "for p, area in Counter(d.values()).most_common():\n",
    "    if p not in edge:\n",
    "        print(area)\n",
    "        break"
   ]
  },
  {
   "cell_type": "markdown",
   "metadata": {},
   "source": [
    "# Part 2"
   ]
  },
  {
   "cell_type": "code",
   "execution_count": 7,
   "metadata": {
    "ExecuteTime": {
     "end_time": "2018-12-06T17:04:47.270779Z",
     "start_time": "2018-12-06T17:04:47.255747Z"
    }
   },
   "outputs": [],
   "source": [
    "def dist(x, y):\n",
    "    return sum(abs(x-a)+abs(y-b) for a, b in coords)"
   ]
  },
  {
   "cell_type": "code",
   "execution_count": 8,
   "metadata": {
    "ExecuteTime": {
     "end_time": "2018-12-06T17:04:48.794370Z",
     "start_time": "2018-12-06T17:04:47.273761Z"
    }
   },
   "outputs": [
    {
     "data": {
      "text/plain": [
       "46966"
      ]
     },
     "execution_count": 8,
     "metadata": {},
     "output_type": "execute_result"
    }
   ],
   "source": [
    "sum(1 for i, j in product(range(max(xs)), range(max(ys))) if dist(i, j) < 10000)"
   ]
  }
 ],
 "metadata": {
  "kernelspec": {
   "display_name": "Python 3",
   "language": "python",
   "name": "python3"
  },
  "language_info": {
   "codemirror_mode": {
    "name": "ipython",
    "version": 3
   },
   "file_extension": ".py",
   "mimetype": "text/x-python",
   "name": "python",
   "nbconvert_exporter": "python",
   "pygments_lexer": "ipython3",
   "version": "3.6.5"
  },
  "varInspector": {
   "cols": {
    "lenName": 16,
    "lenType": 16,
    "lenVar": 40
   },
   "kernels_config": {
    "python": {
     "delete_cmd_postfix": "",
     "delete_cmd_prefix": "del ",
     "library": "var_list.py",
     "varRefreshCmd": "print(var_dic_list())"
    },
    "r": {
     "delete_cmd_postfix": ") ",
     "delete_cmd_prefix": "rm(",
     "library": "var_list.r",
     "varRefreshCmd": "cat(var_dic_list()) "
    }
   },
   "types_to_exclude": [
    "module",
    "function",
    "builtin_function_or_method",
    "instance",
    "_Feature"
   ],
   "window_display": false
  }
 },
 "nbformat": 4,
 "nbformat_minor": 2
}
