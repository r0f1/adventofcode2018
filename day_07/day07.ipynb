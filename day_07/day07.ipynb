{
 "cells": [
  {
   "cell_type": "code",
   "execution_count": 1,
   "metadata": {
    "ExecuteTime": {
     "end_time": "2018-12-07T16:30:05.269633Z",
     "start_time": "2018-12-07T16:30:04.353587Z"
    }
   },
   "outputs": [],
   "source": [
    "import networkx as nx\n",
    "import numpy as np"
   ]
  },
  {
   "cell_type": "code",
   "execution_count": 2,
   "metadata": {
    "ExecuteTime": {
     "end_time": "2018-12-07T16:30:05.276593Z",
     "start_time": "2018-12-07T16:30:05.271586Z"
    }
   },
   "outputs": [],
   "source": [
    "with open(\"input.txt\") as f:\n",
    "    edges = [(l[5], l[36]) for l in f]"
   ]
  },
  {
   "cell_type": "code",
   "execution_count": 3,
   "metadata": {
    "ExecuteTime": {
     "end_time": "2018-12-07T16:30:05.294597Z",
     "start_time": "2018-12-07T16:30:05.279588Z"
    }
   },
   "outputs": [],
   "source": [
    "u, v = zip(*edges)"
   ]
  },
  {
   "cell_type": "code",
   "execution_count": 4,
   "metadata": {
    "ExecuteTime": {
     "end_time": "2018-12-07T16:30:05.313587Z",
     "start_time": "2018-12-07T16:30:05.298588Z"
    }
   },
   "outputs": [],
   "source": [
    "G = nx.DiGraph()\n",
    "G.add_edges_from(edges)"
   ]
  },
  {
   "cell_type": "markdown",
   "metadata": {},
   "source": [
    "# Part 1"
   ]
  },
  {
   "cell_type": "code",
   "execution_count": 5,
   "metadata": {
    "ExecuteTime": {
     "end_time": "2018-12-07T16:30:05.331585Z",
     "start_time": "2018-12-07T16:30:05.315585Z"
    }
   },
   "outputs": [],
   "source": [
    "def get_next_fullfilled_node(seen, open_nodes):\n",
    "    for n in sorted(open_nodes):\n",
    "        if all(k in seen for k in G.predecessors(n)):\n",
    "            return n"
   ]
  },
  {
   "cell_type": "code",
   "execution_count": 6,
   "metadata": {
    "ExecuteTime": {
     "end_time": "2018-12-07T16:30:05.358583Z",
     "start_time": "2018-12-07T16:30:05.333600Z"
    },
    "scrolled": false
   },
   "outputs": [
    {
     "name": "stdout",
     "output_type": "stream",
     "text": [
      "GDHOSUXACIMRTPWNYJLEQFVZBK"
     ]
    }
   ],
   "source": [
    "open_nodes = set(u)-set(v)\n",
    "seen = set()\n",
    "while open_nodes:\n",
    "    n = get_next_fullfilled_node(seen, open_nodes)\n",
    "    print(n, end=\"\")\n",
    "    seen.add(n)\n",
    "    for k in G[n]:\n",
    "        open_nodes.add(k)\n",
    "    open_nodes -= seen"
   ]
  },
  {
   "cell_type": "markdown",
   "metadata": {},
   "source": [
    "# Part 2"
   ]
  },
  {
   "cell_type": "code",
   "execution_count": 7,
   "metadata": {
    "ExecuteTime": {
     "end_time": "2018-12-07T16:30:05.369595Z",
     "start_time": "2018-12-07T16:30:05.362586Z"
    }
   },
   "outputs": [],
   "source": [
    "class Worker(object):\n",
    "    def __init__(self):\n",
    "        self.slots = np.array([0 for _ in range(10_000)])\n",
    "    def is_free(self, t):\n",
    "        return self.slots[t] == 0\n",
    "    def add(self, start_t, c):\n",
    "        end_t = start_t+ord(c)-ord('A')+61\n",
    "        self.slots[start_t:end_t] = 1\n",
    "        return end_t\n",
    "    def finish_time(self):\n",
    "        return max(i for i, e in enumerate(self.slots) if e == 1)"
   ]
  },
  {
   "cell_type": "code",
   "execution_count": 8,
   "metadata": {
    "ExecuteTime": {
     "end_time": "2018-12-07T16:30:05.388626Z",
     "start_time": "2018-12-07T16:30:05.373586Z"
    }
   },
   "outputs": [],
   "source": [
    "def assign_to_workers(task, workers, time):\n",
    "    while True:\n",
    "        for w in workers:\n",
    "            if w.is_free(time):\n",
    "                return w.add(time, task)\n",
    "        time += 1"
   ]
  },
  {
   "cell_type": "code",
   "execution_count": 9,
   "metadata": {
    "ExecuteTime": {
     "end_time": "2018-12-07T16:30:05.404599Z",
     "start_time": "2018-12-07T16:30:05.393591Z"
    }
   },
   "outputs": [],
   "source": [
    "def get_next_fullfilled_node_time(tasks_done, open_nodes, time):\n",
    "    for n in sorted(open_nodes):\n",
    "        ok = True\n",
    "        for k in G.predecessors(n):\n",
    "            if k not in tasks_done or tasks_done[k] > time:\n",
    "                ok = False\n",
    "                break\n",
    "        if ok:\n",
    "            return n\n",
    "    return None"
   ]
  },
  {
   "cell_type": "code",
   "execution_count": 10,
   "metadata": {
    "ExecuteTime": {
     "end_time": "2018-12-07T16:30:05.428583Z",
     "start_time": "2018-12-07T16:30:05.408626Z"
    }
   },
   "outputs": [],
   "source": [
    "workers = [Worker() for _ in range(5)]"
   ]
  },
  {
   "cell_type": "code",
   "execution_count": 11,
   "metadata": {
    "ExecuteTime": {
     "end_time": "2018-12-07T16:30:05.446586Z",
     "start_time": "2018-12-07T16:30:05.431597Z"
    }
   },
   "outputs": [],
   "source": [
    "tasks_done = {}"
   ]
  },
  {
   "cell_type": "code",
   "execution_count": 12,
   "metadata": {
    "ExecuteTime": {
     "end_time": "2018-12-07T16:30:05.470611Z",
     "start_time": "2018-12-07T16:30:05.449584Z"
    }
   },
   "outputs": [],
   "source": [
    "open_nodes = set(u)-set(v)\n",
    "time = 0\n",
    "while open_nodes:\n",
    "    n = get_next_fullfilled_node_time(tasks_done, open_nodes, time)\n",
    "    if n is None:\n",
    "        time += 1 \n",
    "        continue\n",
    "    for k in G[n]:\n",
    "        open_nodes.add(k)\n",
    "    tasks_done[n] = assign_to_workers(n, workers, time)\n",
    "    open_nodes -= tasks_done.keys()"
   ]
  },
  {
   "cell_type": "code",
   "execution_count": 13,
   "metadata": {
    "ExecuteTime": {
     "end_time": "2018-12-07T16:30:05.506583Z",
     "start_time": "2018-12-07T16:30:05.472587Z"
    }
   },
   "outputs": [
    {
     "data": {
      "text/plain": [
       "1024"
      ]
     },
     "execution_count": 13,
     "metadata": {},
     "output_type": "execute_result"
    }
   ],
   "source": [
    "max(w.finish_time() for w in workers)+1"
   ]
  }
 ],
 "metadata": {
  "kernelspec": {
   "display_name": "Python 3",
   "language": "python",
   "name": "python3"
  },
  "language_info": {
   "codemirror_mode": {
    "name": "ipython",
    "version": 3
   },
   "file_extension": ".py",
   "mimetype": "text/x-python",
   "name": "python",
   "nbconvert_exporter": "python",
   "pygments_lexer": "ipython3",
   "version": "3.6.5"
  },
  "varInspector": {
   "cols": {
    "lenName": 16,
    "lenType": 16,
    "lenVar": 40
   },
   "kernels_config": {
    "python": {
     "delete_cmd_postfix": "",
     "delete_cmd_prefix": "del ",
     "library": "var_list.py",
     "varRefreshCmd": "print(var_dic_list())"
    },
    "r": {
     "delete_cmd_postfix": ") ",
     "delete_cmd_prefix": "rm(",
     "library": "var_list.r",
     "varRefreshCmd": "cat(var_dic_list()) "
    }
   },
   "types_to_exclude": [
    "module",
    "function",
    "builtin_function_or_method",
    "instance",
    "_Feature"
   ],
   "window_display": false
  }
 },
 "nbformat": 4,
 "nbformat_minor": 2
}
