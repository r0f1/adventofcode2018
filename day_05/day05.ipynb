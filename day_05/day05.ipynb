{
 "cells": [
  {
   "cell_type": "code",
   "execution_count": 1,
   "metadata": {
    "ExecuteTime": {
     "end_time": "2018-12-05T10:49:46.164256Z",
     "start_time": "2018-12-05T10:49:46.147188Z"
    }
   },
   "outputs": [],
   "source": [
    "from funcy import pairwise"
   ]
  },
  {
   "cell_type": "code",
   "execution_count": 2,
   "metadata": {
    "ExecuteTime": {
     "end_time": "2018-12-05T10:49:46.174293Z",
     "start_time": "2018-12-05T10:49:46.166237Z"
    }
   },
   "outputs": [],
   "source": [
    "with open(\"input.txt\") as f:\n",
    "    polymer = next(f).strip()"
   ]
  },
  {
   "cell_type": "code",
   "execution_count": 3,
   "metadata": {
    "ExecuteTime": {
     "end_time": "2018-12-05T10:49:46.192305Z",
     "start_time": "2018-12-05T10:49:46.176290Z"
    }
   },
   "outputs": [],
   "source": [
    "def react(a, b):\n",
    "    if (a.lower() == b.lower()) and \\\n",
    "       ((a.isupper() and b.islower()) or (a.islower() and b.isupper())):\n",
    "            return \"\"\n",
    "    return a+b"
   ]
  },
  {
   "cell_type": "markdown",
   "metadata": {},
   "source": [
    "# Part 1"
   ]
  },
  {
   "cell_type": "code",
   "execution_count": 4,
   "metadata": {
    "ExecuteTime": {
     "end_time": "2018-12-05T10:49:46.216370Z",
     "start_time": "2018-12-05T10:49:46.196319Z"
    }
   },
   "outputs": [],
   "source": [
    "def fully_react(p):\n",
    "    curr = p\n",
    "    while True:\n",
    "        res = \"\"\n",
    "        it = pairwise(curr)\n",
    "        for a, b in it:\n",
    "            r = react(a, b)\n",
    "            if len(r) == 0:\n",
    "                next(it, None)\n",
    "            else:\n",
    "                res += a\n",
    "\n",
    "        if len(react(curr[~1], curr[~0])) > 0:\n",
    "            res += curr[~0]\n",
    "\n",
    "        if len(res) == len(curr):\n",
    "            break\n",
    "        curr = res\n",
    "    return res"
   ]
  },
  {
   "cell_type": "code",
   "execution_count": 5,
   "metadata": {
    "ExecuteTime": {
     "end_time": "2018-12-05T10:49:52.033425Z",
     "start_time": "2018-12-05T10:49:46.218375Z"
    }
   },
   "outputs": [
    {
     "data": {
      "text/plain": [
       "10384"
      ]
     },
     "execution_count": 5,
     "metadata": {},
     "output_type": "execute_result"
    }
   ],
   "source": [
    "len(fully_react(polymer))"
   ]
  },
  {
   "cell_type": "markdown",
   "metadata": {},
   "source": [
    "# Part 2"
   ]
  },
  {
   "cell_type": "code",
   "execution_count": 6,
   "metadata": {
    "ExecuteTime": {
     "end_time": "2018-12-05T10:53:30.211089Z",
     "start_time": "2018-12-05T10:49:52.036436Z"
    }
   },
   "outputs": [
    {
     "name": "stdout",
     "output_type": "stream",
     "text": [
      "a b c d e f g h i j k l m n o p q r s t u v w x y z "
     ]
    }
   ],
   "source": [
    "best_c, best_length = \"\", float(\"inf\")\n",
    "for c in \"abcdefghijklmnopqrstuvwxyz\":\n",
    "    cropped_polymer = polymer.replace(c, \"\").replace(c.upper(), \"\")\n",
    "    l = len(fully_react(cropped_polymer))\n",
    "    if l < best_length:\n",
    "        best_c, best_length = c, l\n",
    "    print(c, end=\" \")"
   ]
  },
  {
   "cell_type": "code",
   "execution_count": 7,
   "metadata": {
    "ExecuteTime": {
     "end_time": "2018-12-05T10:53:30.220096Z",
     "start_time": "2018-12-05T10:53:30.214081Z"
    }
   },
   "outputs": [
    {
     "name": "stdout",
     "output_type": "stream",
     "text": [
      "a\n",
      "5412\n"
     ]
    }
   ],
   "source": [
    "print(best_c)\n",
    "print(best_length)"
   ]
  }
 ],
 "metadata": {
  "kernelspec": {
   "display_name": "Python 3",
   "language": "python",
   "name": "python3"
  },
  "language_info": {
   "codemirror_mode": {
    "name": "ipython",
    "version": 3
   },
   "file_extension": ".py",
   "mimetype": "text/x-python",
   "name": "python",
   "nbconvert_exporter": "python",
   "pygments_lexer": "ipython3",
   "version": "3.6.5"
  },
  "varInspector": {
   "cols": {
    "lenName": 16,
    "lenType": 16,
    "lenVar": 40
   },
   "kernels_config": {
    "python": {
     "delete_cmd_postfix": "",
     "delete_cmd_prefix": "del ",
     "library": "var_list.py",
     "varRefreshCmd": "print(var_dic_list())"
    },
    "r": {
     "delete_cmd_postfix": ") ",
     "delete_cmd_prefix": "rm(",
     "library": "var_list.r",
     "varRefreshCmd": "cat(var_dic_list()) "
    }
   },
   "types_to_exclude": [
    "module",
    "function",
    "builtin_function_or_method",
    "instance",
    "_Feature"
   ],
   "window_display": false
  }
 },
 "nbformat": 4,
 "nbformat_minor": 2
}
