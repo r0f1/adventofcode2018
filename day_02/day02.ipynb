{
 "cells": [
  {
   "cell_type": "markdown",
   "metadata": {},
   "source": [
    "# Part 1"
   ]
  },
  {
   "cell_type": "code",
   "execution_count": 1,
   "metadata": {
    "ExecuteTime": {
     "end_time": "2018-12-03T20:47:20.860941Z",
     "start_time": "2018-12-03T20:47:20.857469Z"
    }
   },
   "outputs": [],
   "source": [
    "from collections import Counter"
   ]
  },
  {
   "cell_type": "code",
   "execution_count": 2,
   "metadata": {
    "ExecuteTime": {
     "end_time": "2018-12-03T20:47:20.882764Z",
     "start_time": "2018-12-03T20:47:20.862429Z"
    }
   },
   "outputs": [],
   "source": [
    "with open(\"input.txt\") as f:\n",
    "    ids = [Counter(l.strip()) for l in f]"
   ]
  },
  {
   "cell_type": "code",
   "execution_count": 3,
   "metadata": {
    "ExecuteTime": {
     "end_time": "2018-12-03T20:47:20.887724Z",
     "start_time": "2018-12-03T20:47:20.884252Z"
    }
   },
   "outputs": [],
   "source": [
    "count2 = 0\n",
    "count3 = 0\n",
    "for c in ids:\n",
    "    if 2 in c.values(): count2 += 1\n",
    "    if 3 in c.values(): count3 += 1"
   ]
  },
  {
   "cell_type": "code",
   "execution_count": 4,
   "metadata": {
    "ExecuteTime": {
     "end_time": "2018-12-03T20:47:20.903109Z",
     "start_time": "2018-12-03T20:47:20.889212Z"
    }
   },
   "outputs": [
    {
     "data": {
      "text/plain": [
       "6642"
      ]
     },
     "execution_count": 4,
     "metadata": {},
     "output_type": "execute_result"
    }
   ],
   "source": [
    "count2 * count3"
   ]
  },
  {
   "cell_type": "markdown",
   "metadata": {},
   "source": [
    "# Part 2"
   ]
  },
  {
   "cell_type": "code",
   "execution_count": 5,
   "metadata": {
    "ExecuteTime": {
     "end_time": "2018-12-03T20:47:20.932376Z",
     "start_time": "2018-12-03T20:47:20.904589Z"
    }
   },
   "outputs": [],
   "source": [
    "from editdistance import eval as dist\n",
    "from itertools import product"
   ]
  },
  {
   "cell_type": "code",
   "execution_count": 6,
   "metadata": {
    "ExecuteTime": {
     "end_time": "2018-12-03T20:47:20.937308Z",
     "start_time": "2018-12-03T20:47:20.933835Z"
    }
   },
   "outputs": [],
   "source": [
    "with open(\"input.txt\") as f:\n",
    "    ids = [l.strip() for l in f]"
   ]
  },
  {
   "cell_type": "code",
   "execution_count": 7,
   "metadata": {
    "ExecuteTime": {
     "end_time": "2018-12-03T20:47:21.041990Z",
     "start_time": "2018-12-03T20:47:20.938796Z"
    }
   },
   "outputs": [
    {
     "name": "stdout",
     "output_type": "stream",
     "text": [
      "cvfqlbidheyujgtrswxmckqnap cvzqlbidheyujgtrswxmckqnap\n"
     ]
    }
   ],
   "source": [
    "for a, b in product(ids, ids):\n",
    "    if dist(a, b) == 1:\n",
    "        print(a, b)\n",
    "        break"
   ]
  }
 ],
 "metadata": {
  "kernelspec": {
   "display_name": "Python 3",
   "language": "python",
   "name": "python3"
  },
  "language_info": {
   "codemirror_mode": {
    "name": "ipython",
    "version": 3
   },
   "file_extension": ".py",
   "mimetype": "text/x-python",
   "name": "python",
   "nbconvert_exporter": "python",
   "pygments_lexer": "ipython3",
   "version": "3.7.0"
  }
 },
 "nbformat": 4,
 "nbformat_minor": 2
}
