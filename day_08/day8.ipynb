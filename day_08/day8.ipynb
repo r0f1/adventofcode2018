{
 "cells": [
  {
   "cell_type": "code",
   "execution_count": 1,
   "metadata": {
    "ExecuteTime": {
     "end_time": "2018-12-08T10:19:40.384599Z",
     "start_time": "2018-12-08T10:19:40.376663Z"
    }
   },
   "outputs": [],
   "source": [
    "with open(\"input.txt\") as f:\n",
    "    numbers = [int(x) for x in next(f).split()]"
   ]
  },
  {
   "cell_type": "code",
   "execution_count": 2,
   "metadata": {
    "ExecuteTime": {
     "end_time": "2018-12-08T10:19:40.395015Z",
     "start_time": "2018-12-08T10:19:40.386059Z"
    }
   },
   "outputs": [],
   "source": [
    "class Node(object):\n",
    "    def __init__(self, n_childs, n_metadata):\n",
    "        self.n_childs = n_childs\n",
    "        self.n_metadata = n_metadata\n",
    "        self.childs = []\n",
    "        self.metadata = []\n",
    "    def __repr__(self):\n",
    "        return f\"Node {self.n_childs} {self.n_metadata}\""
   ]
  },
  {
   "cell_type": "code",
   "execution_count": 3,
   "metadata": {
    "ExecuteTime": {
     "end_time": "2018-12-08T10:19:40.414360Z",
     "start_time": "2018-12-08T10:19:40.396475Z"
    }
   },
   "outputs": [],
   "source": [
    "it = iter(numbers)\n",
    "root = Node(next(it), next(it))\n",
    "\n",
    "stack = []\n",
    "for _ in range(root.n_metadata):\n",
    "    stack.append((\"metadata\", root))\n",
    "for _ in range(root.n_childs):\n",
    "    stack.append((\"childs\", root))\n",
    "\n",
    "while stack:\n",
    "    inst, current = stack.pop()\n",
    "    if inst == \"childs\":\n",
    "        new_node = Node(next(it), next(it))\n",
    "        current.childs.append(new_node)\n",
    "        for _ in range(new_node.n_metadata):\n",
    "            stack.append((\"metadata\", new_node))\n",
    "        for _ in range(new_node.n_childs):\n",
    "            stack.append((\"childs\", new_node))\n",
    "    else:\n",
    "        current.metadata.append(next(it))"
   ]
  },
  {
   "cell_type": "markdown",
   "metadata": {},
   "source": [
    "# Part 1"
   ]
  },
  {
   "cell_type": "code",
   "execution_count": 4,
   "metadata": {
    "ExecuteTime": {
     "end_time": "2018-12-08T10:19:40.429030Z",
     "start_time": "2018-12-08T10:19:40.416315Z"
    }
   },
   "outputs": [],
   "source": [
    "def tree_sum(n):\n",
    "    return sum(n.metadata)+sum(tree_sum(c) for c in n.childs)"
   ]
  },
  {
   "cell_type": "code",
   "execution_count": 5,
   "metadata": {
    "ExecuteTime": {
     "end_time": "2018-12-08T10:19:40.445243Z",
     "start_time": "2018-12-08T10:19:40.431355Z"
    }
   },
   "outputs": [
    {
     "data": {
      "text/plain": [
       "42146"
      ]
     },
     "execution_count": 5,
     "metadata": {},
     "output_type": "execute_result"
    }
   ],
   "source": [
    "tree_sum(root)"
   ]
  },
  {
   "cell_type": "markdown",
   "metadata": {},
   "source": [
    "# Part 2"
   ]
  },
  {
   "cell_type": "code",
   "execution_count": 6,
   "metadata": {
    "ExecuteTime": {
     "end_time": "2018-12-08T10:19:40.455686Z",
     "start_time": "2018-12-08T10:19:40.447227Z"
    }
   },
   "outputs": [],
   "source": [
    "def tree_sum2(n):\n",
    "    if len(n.childs) == 0:\n",
    "        return sum(n.metadata)\n",
    "    else:\n",
    "        d = dict((i+1, c) for i, c in enumerate(n.childs))\n",
    "        return sum(tree_sum2(d.get(m, Node(0,0))) for m in n.metadata)"
   ]
  },
  {
   "cell_type": "code",
   "execution_count": 7,
   "metadata": {
    "ExecuteTime": {
     "end_time": "2018-12-08T10:19:40.469080Z",
     "start_time": "2018-12-08T10:19:40.457648Z"
    }
   },
   "outputs": [
    {
     "data": {
      "text/plain": [
       "26753"
      ]
     },
     "execution_count": 7,
     "metadata": {},
     "output_type": "execute_result"
    }
   ],
   "source": [
    "tree_sum2(root)"
   ]
  }
 ],
 "metadata": {
  "kernelspec": {
   "display_name": "Python 3",
   "language": "python",
   "name": "python3"
  },
  "language_info": {
   "codemirror_mode": {
    "name": "ipython",
    "version": 3
   },
   "file_extension": ".py",
   "mimetype": "text/x-python",
   "name": "python",
   "nbconvert_exporter": "python",
   "pygments_lexer": "ipython3",
   "version": "3.7.0"
  }
 },
 "nbformat": 4,
 "nbformat_minor": 2
}
