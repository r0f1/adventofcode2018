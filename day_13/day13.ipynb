{
 "cells": [
  {
   "cell_type": "code",
   "execution_count": 5,
   "metadata": {
    "ExecuteTime": {
     "end_time": "2018-12-13T14:53:42.854349Z",
     "start_time": "2018-12-13T14:53:42.850377Z"
    }
   },
   "outputs": [],
   "source": [
    "from itertools import cycle"
   ]
  },
  {
   "cell_type": "code",
   "execution_count": 1,
   "metadata": {
    "ExecuteTime": {
     "end_time": "2018-12-13T13:15:11.618726Z",
     "start_time": "2018-12-13T13:15:11.612736Z"
    }
   },
   "outputs": [],
   "source": [
    "with open(\"input.txt\") as f:\n",
    "    lines = [l.strip() for l in f]"
   ]
  },
  {
   "cell_type": "code",
   "execution_count": 8,
   "metadata": {
    "ExecuteTime": {
     "end_time": "2018-12-13T14:59:19.943818Z",
     "start_time": "2018-12-13T14:59:19.935821Z"
    }
   },
   "outputs": [],
   "source": [
    "carts = []\n",
    "for y, line in enumerate(lines):\n",
    "    for x, c in enumerate(line):\n",
    "        if c in ('^', 'v', '<', '>'):\n",
    "            carts.append([y,x,cycle([\"l\",\"s\",\"r\"])])\n",
    "                "
   ]
  },
  {
   "cell_type": "code",
   "execution_count": 9,
   "metadata": {
    "ExecuteTime": {
     "end_time": "2018-12-13T14:59:20.829006Z",
     "start_time": "2018-12-13T14:59:20.822977Z"
    }
   },
   "outputs": [
    {
     "data": {
      "text/plain": [
       "[[1, 32, <itertools.cycle at 0x1346d4dcea0>],\n",
       " [11, 41, <itertools.cycle at 0x1346d4dcee8>],\n",
       " [18, 17, <itertools.cycle at 0x1346d4dcf30>],\n",
       " [21, 99, <itertools.cycle at 0x1346d4dcf78>],\n",
       " [26, 101, <itertools.cycle at 0x1346d4dcfc0>],\n",
       " [33, 99, <itertools.cycle at 0x1345f166828>],\n",
       " [36, 47, <itertools.cycle at 0x1345f166af8>],\n",
       " [46, 72, <itertools.cycle at 0x1345f166558>],\n",
       " [48, 3, <itertools.cycle at 0x1346d4dd048>],\n",
       " [64, 18, <itertools.cycle at 0x1346d4dd090>],\n",
       " [70, 79, <itertools.cycle at 0x1346d4dd0d8>],\n",
       " [78, 63, <itertools.cycle at 0x1346d4dd120>],\n",
       " [82, 145, <itertools.cycle at 0x1346d4dd168>],\n",
       " [89, 91, <itertools.cycle at 0x1346d4dd1b0>],\n",
       " [102, 98, <itertools.cycle at 0x1346d4dd1f8>],\n",
       " [125, 105, <itertools.cycle at 0x1346d4dd240>],\n",
       " [142, 62, <itertools.cycle at 0x1346d4dd288>]]"
      ]
     },
     "execution_count": 9,
     "metadata": {},
     "output_type": "execute_result"
    }
   ],
   "source": [
    "carts"
   ]
  },
  {
   "cell_type": "code",
   "execution_count": null,
   "metadata": {},
   "outputs": [],
   "source": []
  }
 ],
 "metadata": {
  "kernelspec": {
   "display_name": "Python 3",
   "language": "python",
   "name": "python3"
  },
  "language_info": {
   "codemirror_mode": {
    "name": "ipython",
    "version": 3
   },
   "file_extension": ".py",
   "mimetype": "text/x-python",
   "name": "python",
   "nbconvert_exporter": "python",
   "pygments_lexer": "ipython3",
   "version": "3.6.5"
  },
  "varInspector": {
   "cols": {
    "lenName": 16,
    "lenType": 16,
    "lenVar": 40
   },
   "kernels_config": {
    "python": {
     "delete_cmd_postfix": "",
     "delete_cmd_prefix": "del ",
     "library": "var_list.py",
     "varRefreshCmd": "print(var_dic_list())"
    },
    "r": {
     "delete_cmd_postfix": ") ",
     "delete_cmd_prefix": "rm(",
     "library": "var_list.r",
     "varRefreshCmd": "cat(var_dic_list()) "
    }
   },
   "types_to_exclude": [
    "module",
    "function",
    "builtin_function_or_method",
    "instance",
    "_Feature"
   ],
   "window_display": false
  }
 },
 "nbformat": 4,
 "nbformat_minor": 2
}
