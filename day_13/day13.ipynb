{
 "cells": [
  {
   "cell_type": "code",
   "execution_count": 1,
   "metadata": {
    "ExecuteTime": {
     "end_time": "2018-12-14T19:53:44.297541Z",
     "start_time": "2018-12-14T19:53:44.292548Z"
    }
   },
   "outputs": [],
   "source": [
    "from heapq import heappop\n",
    "from heapq import heappush"
   ]
  },
  {
   "cell_type": "code",
   "execution_count": 2,
   "metadata": {
    "ExecuteTime": {
     "end_time": "2018-12-14T19:53:44.318574Z",
     "start_time": "2018-12-14T19:53:44.301572Z"
    }
   },
   "outputs": [],
   "source": [
    "with open(\"input.txt\") as f:\n",
    "    lines_raw = [l[:-1] for l in f]\n",
    "lines = [l.replace(\"^\", \"|\").replace(\"v\", \"|\").replace(\">\", \"-\").replace(\"<\", \"-\") for l in lines_raw]"
   ]
  },
  {
   "cell_type": "code",
   "execution_count": 3,
   "metadata": {
    "ExecuteTime": {
     "end_time": "2018-12-14T19:53:44.341592Z",
     "start_time": "2018-12-14T19:53:44.320544Z"
    }
   },
   "outputs": [],
   "source": [
    "pos_raw = dict()\n",
    "carts_raw = []\n",
    "pk = 0\n",
    "for y, line in enumerate(lines_raw):\n",
    "    for x, c in enumerate(line):\n",
    "        if c in ('^', 'v', '<', '>'):\n",
    "            heappush(carts_raw, (y,x,c,\"l\",pk))\n",
    "            pos_raw[(x,y)] = pk\n",
    "            pk += 1"
   ]
  },
  {
   "cell_type": "markdown",
   "metadata": {},
   "source": [
    "# Part 1"
   ]
  },
  {
   "cell_type": "code",
   "execution_count": 4,
   "metadata": {
    "ExecuteTime": {
     "end_time": "2018-12-14T19:53:44.360549Z",
     "start_time": "2018-12-14T19:53:44.344547Z"
    }
   },
   "outputs": [],
   "source": [
    "carts = carts_raw.copy()\n",
    "pos = pos_raw.copy()"
   ]
  },
  {
   "cell_type": "code",
   "execution_count": 5,
   "metadata": {
    "ExecuteTime": {
     "end_time": "2018-12-14T19:53:44.389543Z",
     "start_time": "2018-12-14T19:53:44.363546Z"
    }
   },
   "outputs": [
    {
     "name": "stdout",
     "output_type": "stream",
     "text": [
      "109 23\n"
     ]
    }
   ],
   "source": [
    "while True:\n",
    "    new_carts = []\n",
    "    while carts:\n",
    "        y, x, c, i, pk = heappop(carts)\n",
    "        new_y, new_x, new_c, new_i = y, x, c, i\n",
    "\n",
    "        if   c == \"v\": new_y = y+1\n",
    "        elif c == \">\": new_x = x+1\n",
    "        elif c == \"^\": new_y = y-1\n",
    "        elif c == \"<\": new_x = x-1\n",
    "            \n",
    "        del pos[(x,y)]\n",
    "\n",
    "        if (new_x, new_y) in pos:\n",
    "            print(new_x,new_y)\n",
    "            break            \n",
    "            \n",
    "        if lines[new_y][new_x] == \"+\":\n",
    "            if i == \"l\":\n",
    "                if   c == \"v\": new_c = \">\"\n",
    "                elif c == \">\": new_c = \"^\"\n",
    "                elif c == \"^\": new_c = \"<\"\n",
    "                elif c == \"<\": new_c = \"v\"\n",
    "                new_i = \"s\"\n",
    "            elif i == \"s\":\n",
    "                new_i = \"r\"\n",
    "            elif i == \"r\":\n",
    "                if   c == \"v\": new_c = \"<\"\n",
    "                elif c == \">\": new_c = \"v\"\n",
    "                elif c == \"^\": new_c = \">\"\n",
    "                elif c == \"<\": new_c = \"^\"\n",
    "                new_i = \"l\"\n",
    "\n",
    "        elif lines[new_y][new_x] == \"/\":\n",
    "            if   c == \"v\": new_c = \"<\"\n",
    "            elif c == \">\": new_c = \"^\"\n",
    "            elif c == \"^\": new_c = \">\"\n",
    "            elif c == \"<\": new_c = \"v\"\n",
    "\n",
    "        elif lines[new_y][new_x] == \"\\\\\":\n",
    "            if   c == \"v\": new_c = \">\"\n",
    "            elif c == \">\": new_c = \"v\"\n",
    "            elif c == \"^\": new_c = \"<\"\n",
    "            elif c == \"<\": new_c = \"^\"\n",
    "            \n",
    "        pos[(new_x,new_y)] = pk\n",
    "        heappush(new_carts, (new_y,new_x,new_c,new_i,pk))\n",
    "    else:\n",
    "        carts = new_carts\n",
    "        continue\n",
    "    break"
   ]
  },
  {
   "cell_type": "markdown",
   "metadata": {},
   "source": [
    "# Part 2"
   ]
  },
  {
   "cell_type": "code",
   "execution_count": 6,
   "metadata": {
    "ExecuteTime": {
     "end_time": "2018-12-14T19:53:44.404552Z",
     "start_time": "2018-12-14T19:53:44.391542Z"
    }
   },
   "outputs": [],
   "source": [
    "carts = carts_raw.copy()\n",
    "pos = pos_raw.copy()"
   ]
  },
  {
   "cell_type": "code",
   "execution_count": 7,
   "metadata": {
    "ExecuteTime": {
     "end_time": "2018-12-14T19:53:44.510541Z",
     "start_time": "2018-12-14T19:53:44.408541Z"
    }
   },
   "outputs": [
    {
     "name": "stdout",
     "output_type": "stream",
     "text": [
      "137 101\n"
     ]
    }
   ],
   "source": [
    "while len(carts) > 1:\n",
    "    new_carts = []\n",
    "    while carts:\n",
    "        y, x, c, i, pk = heappop(carts)\n",
    "        if pk not in pos.values():\n",
    "            continue\n",
    "\n",
    "        new_y, new_x, new_c, new_i = y, x, c, i\n",
    "\n",
    "        if   c == \"v\": new_y = y+1\n",
    "        elif c == \">\": new_x = x+1\n",
    "        elif c == \"^\": new_y = y-1\n",
    "        elif c == \"<\": new_x = x-1\n",
    "            \n",
    "        del pos[(x,y)]\n",
    "\n",
    "        if (new_x, new_y) in pos:\n",
    "            del pos[(new_x, new_y)]\n",
    "            continue\n",
    "        \n",
    "        if lines[new_y][new_x] == \"+\":\n",
    "            if i == \"l\":\n",
    "                if   c == \"v\": new_c = \">\"\n",
    "                elif c == \">\": new_c = \"^\"\n",
    "                elif c == \"^\": new_c = \"<\"\n",
    "                elif c == \"<\": new_c = \"v\"\n",
    "                new_i = \"s\"\n",
    "            elif i == \"s\":\n",
    "                new_i = \"r\"\n",
    "            elif i == \"r\":\n",
    "                if   c == \"v\": new_c = \"<\"\n",
    "                elif c == \">\": new_c = \"v\"\n",
    "                elif c == \"^\": new_c = \">\"\n",
    "                elif c == \"<\": new_c = \"^\"\n",
    "                new_i = \"l\"\n",
    "\n",
    "        elif lines[new_y][new_x] == \"/\":\n",
    "            if   c == \"v\": new_c = \"<\"\n",
    "            elif c == \">\": new_c = \"^\"\n",
    "            elif c == \"^\": new_c = \">\"\n",
    "            elif c == \"<\": new_c = \"v\"\n",
    "\n",
    "        elif lines[new_y][new_x] == \"\\\\\":\n",
    "            if   c == \"v\": new_c = \">\"\n",
    "            elif c == \">\": new_c = \"v\"\n",
    "            elif c == \"^\": new_c = \"<\"\n",
    "            elif c == \"<\": new_c = \"^\"\n",
    "            \n",
    "        pos[(new_x,new_y)] = pk\n",
    "        heappush(new_carts, (new_y,new_x,new_c,new_i,pk))\n",
    "    carts = new_carts\n",
    "\n",
    "print(carts[0][1], carts[0][0])"
   ]
  }
 ],
 "metadata": {
  "kernelspec": {
   "display_name": "Python 3",
   "language": "python",
   "name": "python3"
  },
  "language_info": {
   "codemirror_mode": {
    "name": "ipython",
    "version": 3
   },
   "file_extension": ".py",
   "mimetype": "text/x-python",
   "name": "python",
   "nbconvert_exporter": "python",
   "pygments_lexer": "ipython3",
   "version": "3.6.5"
  },
  "varInspector": {
   "cols": {
    "lenName": 16,
    "lenType": 16,
    "lenVar": 40
   },
   "kernels_config": {
    "python": {
     "delete_cmd_postfix": "",
     "delete_cmd_prefix": "del ",
     "library": "var_list.py",
     "varRefreshCmd": "print(var_dic_list())"
    },
    "r": {
     "delete_cmd_postfix": ") ",
     "delete_cmd_prefix": "rm(",
     "library": "var_list.r",
     "varRefreshCmd": "cat(var_dic_list()) "
    }
   },
   "types_to_exclude": [
    "module",
    "function",
    "builtin_function_or_method",
    "instance",
    "_Feature"
   ],
   "window_display": false
  }
 },
 "nbformat": 4,
 "nbformat_minor": 2
}
