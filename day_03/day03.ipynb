{
 "cells": [
  {
   "cell_type": "markdown",
   "metadata": {},
   "source": [
    "# Part 1"
   ]
  },
  {
   "cell_type": "code",
   "execution_count": 1,
   "metadata": {
    "ExecuteTime": {
     "end_time": "2018-12-03T09:25:42.235453Z",
     "start_time": "2018-12-03T09:25:42.130070Z"
    }
   },
   "outputs": [],
   "source": [
    "import numpy as np"
   ]
  },
  {
   "cell_type": "code",
   "execution_count": 2,
   "metadata": {
    "ExecuteTime": {
     "end_time": "2018-12-03T09:25:42.248659Z",
     "start_time": "2018-12-03T09:25:42.235453Z"
    }
   },
   "outputs": [],
   "source": [
    "with open(\"input.txt\") as f:\n",
    "    claims = []\n",
    "    for line in f:\n",
    "        _, _, coords, dim = line.split()\n",
    "        x, y = coords.split(\",\")[0], coords.split(\",\")[1][:-1]\n",
    "        a, b = dim.split(\"x\")\n",
    "        claims.append((int(x), int(y), int(a), int(b)))"
   ]
  },
  {
   "cell_type": "code",
   "execution_count": 3,
   "metadata": {
    "ExecuteTime": {
     "end_time": "2018-12-03T09:25:42.261699Z",
     "start_time": "2018-12-03T09:25:42.252661Z"
    }
   },
   "outputs": [],
   "source": [
    "max_x = max(t[0]+t[2]+1 for t in claims)\n",
    "max_y = max(t[1]+t[3]+1 for t in claims)"
   ]
  },
  {
   "cell_type": "code",
   "execution_count": 4,
   "metadata": {
    "ExecuteTime": {
     "end_time": "2018-12-03T09:25:42.290763Z",
     "start_time": "2018-12-03T09:25:42.263690Z"
    }
   },
   "outputs": [],
   "source": [
    "fabric = np.zeros((max_x, max_y), dtype=int)\n",
    "for x, y, a, b in claims:\n",
    "    fabric[x:x+a, y:y+b] += 1"
   ]
  },
  {
   "cell_type": "code",
   "execution_count": 5,
   "metadata": {
    "ExecuteTime": {
     "end_time": "2018-12-03T09:25:42.317886Z",
     "start_time": "2018-12-03T09:25:42.293770Z"
    }
   },
   "outputs": [
    {
     "data": {
      "text/plain": [
       "104439"
      ]
     },
     "execution_count": 5,
     "metadata": {},
     "output_type": "execute_result"
    }
   ],
   "source": [
    "len(fabric[fabric > 1])"
   ]
  },
  {
   "cell_type": "markdown",
   "metadata": {},
   "source": [
    "# Part 2"
   ]
  },
  {
   "cell_type": "code",
   "execution_count": 6,
   "metadata": {
    "ExecuteTime": {
     "end_time": "2018-12-03T09:25:42.325875Z",
     "start_time": "2018-12-03T09:25:42.319859Z"
    }
   },
   "outputs": [],
   "source": [
    "candidates = set(list(range(len(claims))))"
   ]
  },
  {
   "cell_type": "code",
   "execution_count": 7,
   "metadata": {
    "ExecuteTime": {
     "end_time": "2018-12-03T09:25:42.371065Z",
     "start_time": "2018-12-03T09:25:42.327882Z"
    }
   },
   "outputs": [],
   "source": [
    "fabric = np.zeros((max_x, max_y), dtype=int)\n",
    "for i, (x, y, a, b) in enumerate(claims):\n",
    "    f = fabric[x:x+a, y:y+b]\n",
    "    uniques = np.unique(f)\n",
    "    if list(uniques) != [0]:\n",
    "        for u in uniques:\n",
    "            candidates.discard(u)\n",
    "        candidates.discard(i)\n",
    "    fabric[x:x+a, y:y+b] = i"
   ]
  },
  {
   "cell_type": "code",
   "execution_count": 8,
   "metadata": {
    "ExecuteTime": {
     "end_time": "2018-12-03T09:25:42.381023Z",
     "start_time": "2018-12-03T09:25:42.375011Z"
    }
   },
   "outputs": [
    {
     "data": {
      "text/plain": [
       "701"
      ]
     },
     "execution_count": 8,
     "metadata": {},
     "output_type": "execute_result"
    }
   ],
   "source": [
    "candidates.pop()+1"
   ]
  }
 ],
 "metadata": {
  "kernelspec": {
   "display_name": "Python 3",
   "language": "python",
   "name": "python3"
  },
  "language_info": {
   "codemirror_mode": {
    "name": "ipython",
    "version": 3
   },
   "file_extension": ".py",
   "mimetype": "text/x-python",
   "name": "python",
   "nbconvert_exporter": "python",
   "pygments_lexer": "ipython3",
   "version": "3.6.5"
  },
  "varInspector": {
   "cols": {
    "lenName": 16,
    "lenType": 16,
    "lenVar": 40
   },
   "kernels_config": {
    "python": {
     "delete_cmd_postfix": "",
     "delete_cmd_prefix": "del ",
     "library": "var_list.py",
     "varRefreshCmd": "print(var_dic_list())"
    },
    "r": {
     "delete_cmd_postfix": ") ",
     "delete_cmd_prefix": "rm(",
     "library": "var_list.r",
     "varRefreshCmd": "cat(var_dic_list()) "
    }
   },
   "types_to_exclude": [
    "module",
    "function",
    "builtin_function_or_method",
    "instance",
    "_Feature"
   ],
   "window_display": false
  }
 },
 "nbformat": 4,
 "nbformat_minor": 2
}
