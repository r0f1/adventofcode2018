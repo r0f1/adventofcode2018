{
 "cells": [
  {
   "cell_type": "code",
   "execution_count": 1,
   "metadata": {
    "ExecuteTime": {
     "end_time": "2018-12-05T11:00:56.446627Z",
     "start_time": "2018-12-05T11:00:56.042194Z"
    }
   },
   "outputs": [],
   "source": [
    "import pandas as pd\n",
    "import re"
   ]
  },
  {
   "cell_type": "code",
   "execution_count": 2,
   "metadata": {
    "ExecuteTime": {
     "end_time": "2018-12-05T11:00:56.480762Z",
     "start_time": "2018-12-05T11:00:56.446627Z"
    }
   },
   "outputs": [],
   "source": [
    "pattern = re.compile(r\"\\[(.*?)\\]\")\n",
    "\n",
    "wake_up = []\n",
    "fall_asleep = []\n",
    "begin_shift = []\n",
    "\n",
    "with open(\"input.txt\") as f:\n",
    "    guards = []\n",
    "    for l in f:\n",
    "        a, b = pattern.match(l).span()\n",
    "        date = \"2018\"+l[a+1: b-1][4:]\n",
    "        event = l[b+1:].strip()\n",
    "        if event == \"wakes up\":\n",
    "            wake_up.append((date, 1))\n",
    "        elif event == \"falls asleep\":\n",
    "            fall_asleep.append((date, 1))\n",
    "        else:\n",
    "            guard_id = int(event.split()[1][1:])\n",
    "            begin_shift.append((date, guard_id))"
   ]
  },
  {
   "cell_type": "code",
   "execution_count": 3,
   "metadata": {
    "ExecuteTime": {
     "end_time": "2018-12-05T11:00:56.507479Z",
     "start_time": "2018-12-05T11:00:56.482744Z"
    }
   },
   "outputs": [],
   "source": [
    "df = pd.concat([pd.DataFrame(begin_shift, columns=[\"date\", \"guard\"]),\n",
    "               pd.DataFrame(fall_asleep, columns=[\"date\", \"fall_asleep\"]),\n",
    "               pd.DataFrame(wake_up, columns=[\"date\", \"wake_up\"])], sort=False)\n",
    "\n",
    "df[\"date\"] = pd.to_datetime(df[\"date\"])\n",
    "df = df.sort_values(\"date\").set_index(\"date\")\n",
    "df[\"guard\"] = df[\"guard\"].ffill()"
   ]
  },
  {
   "cell_type": "code",
   "execution_count": 4,
   "metadata": {
    "ExecuteTime": {
     "end_time": "2018-12-05T11:00:57.975826Z",
     "start_time": "2018-12-05T11:00:56.509486Z"
    }
   },
   "outputs": [],
   "source": [
    "results = []\n",
    "for guard_id, grp in df.groupby(\"guard\"):\n",
    "    grp = grp.reindex(pd.date_range(grp.index[0], grp.index[~0], freq=\"60S\")).fillna(0).query(\"index.dt.hour == 0\")\n",
    "    grp[\"sleeping\"] = grp[\"fall_asleep\"].cumsum()-grp[\"wake_up\"].cumsum()\n",
    "    grp[\"min\"] = grp.index.minute\n",
    "    r = grp.groupby(\"min\")[\"sleeping\"].sum()\n",
    "    total_minutes_asleep = r.sum()\n",
    "    k = r.sort_values(ascending=False)\n",
    "    d = {\"guard_id\": int(guard_id), \"total_minutes_asleep\": int(total_minutes_asleep), \n",
    "         \"most_freq_minute\": k.index[0], \"count_most_freq_minute\": int(k.iloc[0])}\n",
    "    results.append(d)"
   ]
  },
  {
   "cell_type": "code",
   "execution_count": 5,
   "metadata": {
    "ExecuteTime": {
     "end_time": "2018-12-05T11:00:57.982306Z",
     "start_time": "2018-12-05T11:00:57.975826Z"
    }
   },
   "outputs": [],
   "source": [
    "res = pd.DataFrame(results, columns=[\"guard_id\", \"total_minutes_asleep\", \"most_freq_minute\", \"count_most_freq_minute\"])"
   ]
  },
  {
   "cell_type": "code",
   "execution_count": 6,
   "metadata": {
    "ExecuteTime": {
     "end_time": "2018-12-05T11:00:58.015724Z",
     "start_time": "2018-12-05T11:00:57.985315Z"
    }
   },
   "outputs": [
    {
     "data": {
      "text/html": [
       "<div>\n",
       "<style scoped>\n",
       "    .dataframe tbody tr th:only-of-type {\n",
       "        vertical-align: middle;\n",
       "    }\n",
       "\n",
       "    .dataframe tbody tr th {\n",
       "        vertical-align: top;\n",
       "    }\n",
       "\n",
       "    .dataframe thead th {\n",
       "        text-align: right;\n",
       "    }\n",
       "</style>\n",
       "<table border=\"1\" class=\"dataframe\">\n",
       "  <thead>\n",
       "    <tr style=\"text-align: right;\">\n",
       "      <th></th>\n",
       "      <th>guard_id</th>\n",
       "      <th>total_minutes_asleep</th>\n",
       "      <th>most_freq_minute</th>\n",
       "      <th>count_most_freq_minute</th>\n",
       "    </tr>\n",
       "  </thead>\n",
       "  <tbody>\n",
       "    <tr>\n",
       "      <th>0</th>\n",
       "      <td>103</td>\n",
       "      <td>283</td>\n",
       "      <td>38</td>\n",
       "      <td>11</td>\n",
       "    </tr>\n",
       "    <tr>\n",
       "      <th>1</th>\n",
       "      <td>109</td>\n",
       "      <td>422</td>\n",
       "      <td>24</td>\n",
       "      <td>12</td>\n",
       "    </tr>\n",
       "    <tr>\n",
       "      <th>2</th>\n",
       "      <td>239</td>\n",
       "      <td>227</td>\n",
       "      <td>47</td>\n",
       "      <td>9</td>\n",
       "    </tr>\n",
       "    <tr>\n",
       "      <th>3</th>\n",
       "      <td>277</td>\n",
       "      <td>303</td>\n",
       "      <td>35</td>\n",
       "      <td>8</td>\n",
       "    </tr>\n",
       "    <tr>\n",
       "      <th>4</th>\n",
       "      <td>281</td>\n",
       "      <td>0</td>\n",
       "      <td>59</td>\n",
       "      <td>0</td>\n",
       "    </tr>\n",
       "    <tr>\n",
       "      <th>5</th>\n",
       "      <td>433</td>\n",
       "      <td>284</td>\n",
       "      <td>44</td>\n",
       "      <td>10</td>\n",
       "    </tr>\n",
       "    <tr>\n",
       "      <th>6</th>\n",
       "      <td>677</td>\n",
       "      <td>231</td>\n",
       "      <td>36</td>\n",
       "      <td>9</td>\n",
       "    </tr>\n",
       "    <tr>\n",
       "      <th>7</th>\n",
       "      <td>727</td>\n",
       "      <td>449</td>\n",
       "      <td>49</td>\n",
       "      <td>13</td>\n",
       "    </tr>\n",
       "    <tr>\n",
       "      <th>8</th>\n",
       "      <td>739</td>\n",
       "      <td>280</td>\n",
       "      <td>37</td>\n",
       "      <td>11</td>\n",
       "    </tr>\n",
       "    <tr>\n",
       "      <th>9</th>\n",
       "      <td>821</td>\n",
       "      <td>0</td>\n",
       "      <td>59</td>\n",
       "      <td>0</td>\n",
       "    </tr>\n",
       "    <tr>\n",
       "      <th>10</th>\n",
       "      <td>1051</td>\n",
       "      <td>124</td>\n",
       "      <td>43</td>\n",
       "      <td>4</td>\n",
       "    </tr>\n",
       "    <tr>\n",
       "      <th>11</th>\n",
       "      <td>1097</td>\n",
       "      <td>409</td>\n",
       "      <td>21</td>\n",
       "      <td>15</td>\n",
       "    </tr>\n",
       "    <tr>\n",
       "      <th>12</th>\n",
       "      <td>1171</td>\n",
       "      <td>175</td>\n",
       "      <td>23</td>\n",
       "      <td>6</td>\n",
       "    </tr>\n",
       "    <tr>\n",
       "      <th>13</th>\n",
       "      <td>1249</td>\n",
       "      <td>172</td>\n",
       "      <td>17</td>\n",
       "      <td>5</td>\n",
       "    </tr>\n",
       "    <tr>\n",
       "      <th>14</th>\n",
       "      <td>1447</td>\n",
       "      <td>364</td>\n",
       "      <td>43</td>\n",
       "      <td>13</td>\n",
       "    </tr>\n",
       "    <tr>\n",
       "      <th>15</th>\n",
       "      <td>1709</td>\n",
       "      <td>119</td>\n",
       "      <td>53</td>\n",
       "      <td>5</td>\n",
       "    </tr>\n",
       "    <tr>\n",
       "      <th>16</th>\n",
       "      <td>1871</td>\n",
       "      <td>375</td>\n",
       "      <td>34</td>\n",
       "      <td>12</td>\n",
       "    </tr>\n",
       "    <tr>\n",
       "      <th>17</th>\n",
       "      <td>2251</td>\n",
       "      <td>376</td>\n",
       "      <td>44</td>\n",
       "      <td>14</td>\n",
       "    </tr>\n",
       "    <tr>\n",
       "      <th>18</th>\n",
       "      <td>2423</td>\n",
       "      <td>370</td>\n",
       "      <td>33</td>\n",
       "      <td>13</td>\n",
       "    </tr>\n",
       "    <tr>\n",
       "      <th>19</th>\n",
       "      <td>2593</td>\n",
       "      <td>329</td>\n",
       "      <td>44</td>\n",
       "      <td>13</td>\n",
       "    </tr>\n",
       "    <tr>\n",
       "      <th>20</th>\n",
       "      <td>2689</td>\n",
       "      <td>426</td>\n",
       "      <td>31</td>\n",
       "      <td>12</td>\n",
       "    </tr>\n",
       "    <tr>\n",
       "      <th>21</th>\n",
       "      <td>2887</td>\n",
       "      <td>241</td>\n",
       "      <td>43</td>\n",
       "      <td>10</td>\n",
       "    </tr>\n",
       "    <tr>\n",
       "      <th>22</th>\n",
       "      <td>3121</td>\n",
       "      <td>0</td>\n",
       "      <td>0</td>\n",
       "      <td>0</td>\n",
       "    </tr>\n",
       "  </tbody>\n",
       "</table>\n",
       "</div>"
      ],
      "text/plain": [
       "    guard_id  total_minutes_asleep  most_freq_minute  count_most_freq_minute\n",
       "0        103                   283                38                      11\n",
       "1        109                   422                24                      12\n",
       "2        239                   227                47                       9\n",
       "3        277                   303                35                       8\n",
       "4        281                     0                59                       0\n",
       "5        433                   284                44                      10\n",
       "6        677                   231                36                       9\n",
       "7        727                   449                49                      13\n",
       "8        739                   280                37                      11\n",
       "9        821                     0                59                       0\n",
       "10      1051                   124                43                       4\n",
       "11      1097                   409                21                      15\n",
       "12      1171                   175                23                       6\n",
       "13      1249                   172                17                       5\n",
       "14      1447                   364                43                      13\n",
       "15      1709                   119                53                       5\n",
       "16      1871                   375                34                      12\n",
       "17      2251                   376                44                      14\n",
       "18      2423                   370                33                      13\n",
       "19      2593                   329                44                      13\n",
       "20      2689                   426                31                      12\n",
       "21      2887                   241                43                      10\n",
       "22      3121                     0                 0                       0"
      ]
     },
     "execution_count": 6,
     "metadata": {},
     "output_type": "execute_result"
    }
   ],
   "source": [
    "res"
   ]
  },
  {
   "cell_type": "markdown",
   "metadata": {
    "ExecuteTime": {
     "end_time": "2018-12-05T10:01:44.290647Z",
     "start_time": "2018-12-05T10:01:44.285660Z"
    }
   },
   "source": [
    "# Part 1"
   ]
  },
  {
   "cell_type": "code",
   "execution_count": 7,
   "metadata": {
    "ExecuteTime": {
     "end_time": "2018-12-05T11:00:58.030765Z",
     "start_time": "2018-12-05T11:00:58.018771Z"
    }
   },
   "outputs": [
    {
     "data": {
      "text/html": [
       "<div>\n",
       "<style scoped>\n",
       "    .dataframe tbody tr th:only-of-type {\n",
       "        vertical-align: middle;\n",
       "    }\n",
       "\n",
       "    .dataframe tbody tr th {\n",
       "        vertical-align: top;\n",
       "    }\n",
       "\n",
       "    .dataframe thead th {\n",
       "        text-align: right;\n",
       "    }\n",
       "</style>\n",
       "<table border=\"1\" class=\"dataframe\">\n",
       "  <thead>\n",
       "    <tr style=\"text-align: right;\">\n",
       "      <th></th>\n",
       "      <th>guard_id</th>\n",
       "      <th>total_minutes_asleep</th>\n",
       "      <th>most_freq_minute</th>\n",
       "      <th>count_most_freq_minute</th>\n",
       "    </tr>\n",
       "  </thead>\n",
       "  <tbody>\n",
       "    <tr>\n",
       "      <th>7</th>\n",
       "      <td>727</td>\n",
       "      <td>449</td>\n",
       "      <td>49</td>\n",
       "      <td>13</td>\n",
       "    </tr>\n",
       "  </tbody>\n",
       "</table>\n",
       "</div>"
      ],
      "text/plain": [
       "   guard_id  total_minutes_asleep  most_freq_minute  count_most_freq_minute\n",
       "7       727                   449                49                      13"
      ]
     },
     "execution_count": 7,
     "metadata": {},
     "output_type": "execute_result"
    }
   ],
   "source": [
    "res.sort_values(\"total_minutes_asleep\", ascending=False).head(1)"
   ]
  },
  {
   "cell_type": "code",
   "execution_count": 8,
   "metadata": {
    "ExecuteTime": {
     "end_time": "2018-12-05T11:00:58.048812Z",
     "start_time": "2018-12-05T11:00:58.032772Z"
    }
   },
   "outputs": [
    {
     "data": {
      "text/plain": [
       "35623"
      ]
     },
     "execution_count": 8,
     "metadata": {},
     "output_type": "execute_result"
    }
   ],
   "source": [
    "r = res.sort_values(\"total_minutes_asleep\", ascending=False)\n",
    "r.iloc[0][\"guard_id\"] *r.iloc[0][\"most_freq_minute\"]"
   ]
  },
  {
   "cell_type": "markdown",
   "metadata": {},
   "source": [
    "# Part 2"
   ]
  },
  {
   "cell_type": "code",
   "execution_count": 9,
   "metadata": {
    "ExecuteTime": {
     "end_time": "2018-12-05T11:00:58.070870Z",
     "start_time": "2018-12-05T11:00:58.051850Z"
    }
   },
   "outputs": [
    {
     "data": {
      "text/html": [
       "<div>\n",
       "<style scoped>\n",
       "    .dataframe tbody tr th:only-of-type {\n",
       "        vertical-align: middle;\n",
       "    }\n",
       "\n",
       "    .dataframe tbody tr th {\n",
       "        vertical-align: top;\n",
       "    }\n",
       "\n",
       "    .dataframe thead th {\n",
       "        text-align: right;\n",
       "    }\n",
       "</style>\n",
       "<table border=\"1\" class=\"dataframe\">\n",
       "  <thead>\n",
       "    <tr style=\"text-align: right;\">\n",
       "      <th></th>\n",
       "      <th>guard_id</th>\n",
       "      <th>total_minutes_asleep</th>\n",
       "      <th>most_freq_minute</th>\n",
       "      <th>count_most_freq_minute</th>\n",
       "    </tr>\n",
       "  </thead>\n",
       "  <tbody>\n",
       "    <tr>\n",
       "      <th>11</th>\n",
       "      <td>1097</td>\n",
       "      <td>409</td>\n",
       "      <td>21</td>\n",
       "      <td>15</td>\n",
       "    </tr>\n",
       "  </tbody>\n",
       "</table>\n",
       "</div>"
      ],
      "text/plain": [
       "    guard_id  total_minutes_asleep  most_freq_minute  count_most_freq_minute\n",
       "11      1097                   409                21                      15"
      ]
     },
     "execution_count": 9,
     "metadata": {},
     "output_type": "execute_result"
    }
   ],
   "source": [
    "res.sort_values(\"count_most_freq_minute\", ascending=False).head(1)"
   ]
  },
  {
   "cell_type": "code",
   "execution_count": 10,
   "metadata": {
    "ExecuteTime": {
     "end_time": "2018-12-05T11:00:58.093934Z",
     "start_time": "2018-12-05T11:00:58.073901Z"
    }
   },
   "outputs": [
    {
     "data": {
      "text/plain": [
       "23037"
      ]
     },
     "execution_count": 10,
     "metadata": {},
     "output_type": "execute_result"
    }
   ],
   "source": [
    "r = res.sort_values(\"count_most_freq_minute\", ascending=False)\n",
    "r.iloc[0][\"guard_id\"] *r.iloc[0][\"most_freq_minute\"]"
   ]
  }
 ],
 "metadata": {
  "kernelspec": {
   "display_name": "Python 3",
   "language": "python",
   "name": "python3"
  },
  "language_info": {
   "codemirror_mode": {
    "name": "ipython",
    "version": 3
   },
   "file_extension": ".py",
   "mimetype": "text/x-python",
   "name": "python",
   "nbconvert_exporter": "python",
   "pygments_lexer": "ipython3",
   "version": "3.6.5"
  },
  "varInspector": {
   "cols": {
    "lenName": 16,
    "lenType": 16,
    "lenVar": 40
   },
   "kernels_config": {
    "python": {
     "delete_cmd_postfix": "",
     "delete_cmd_prefix": "del ",
     "library": "var_list.py",
     "varRefreshCmd": "print(var_dic_list())"
    },
    "r": {
     "delete_cmd_postfix": ") ",
     "delete_cmd_prefix": "rm(",
     "library": "var_list.r",
     "varRefreshCmd": "cat(var_dic_list()) "
    }
   },
   "types_to_exclude": [
    "module",
    "function",
    "builtin_function_or_method",
    "instance",
    "_Feature"
   ],
   "window_display": false
  }
 },
 "nbformat": 4,
 "nbformat_minor": 2
}
