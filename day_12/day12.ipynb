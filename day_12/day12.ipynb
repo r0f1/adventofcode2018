{
 "cells": [
  {
   "cell_type": "code",
   "execution_count": 1,
   "metadata": {
    "ExecuteTime": {
     "end_time": "2018-12-12T15:26:27.362599Z",
     "start_time": "2018-12-12T15:26:27.352608Z"
    }
   },
   "outputs": [],
   "source": [
    "from more_itertools import windowed\n",
    "from more_itertools import with_iter\n",
    "from itertools import takewhile"
   ]
  },
  {
   "cell_type": "code",
   "execution_count": 2,
   "metadata": {
    "ExecuteTime": {
     "end_time": "2018-12-12T15:26:27.378600Z",
     "start_time": "2018-12-12T15:26:27.364599Z"
    }
   },
   "outputs": [],
   "source": [
    "initial = \"##...#......##......#.####.##.#..#..####.#.######.##..#.####...##....#.#.####.####.#..#.######.##...\""
   ]
  },
  {
   "cell_type": "code",
   "execution_count": 3,
   "metadata": {
    "ExecuteTime": {
     "end_time": "2018-12-12T15:26:27.396632Z",
     "start_time": "2018-12-12T15:26:27.381612Z"
    }
   },
   "outputs": [],
   "source": [
    "rules = dict(tuple(l.strip().split(\" => \")) for l in with_iter(open(\"input.txt\")))"
   ]
  },
  {
   "cell_type": "code",
   "execution_count": 4,
   "metadata": {
    "ExecuteTime": {
     "end_time": "2018-12-12T15:26:27.412599Z",
     "start_time": "2018-12-12T15:26:27.398600Z"
    }
   },
   "outputs": [],
   "source": [
    "def dot_count(s):\n",
    "    return sum(1 for _ in takewhile(lambda c: c == '.', s))"
   ]
  },
  {
   "cell_type": "markdown",
   "metadata": {},
   "source": [
    "# Part 1"
   ]
  },
  {
   "cell_type": "code",
   "execution_count": 5,
   "metadata": {
    "ExecuteTime": {
     "end_time": "2018-12-12T15:26:27.431623Z",
     "start_time": "2018-12-12T15:26:27.414604Z"
    },
    "run_control": {
     "marked": false
    }
   },
   "outputs": [],
   "source": [
    "current = \".....\" + initial + \".....\"\n",
    "first = -5\n",
    "for i in range(20):\n",
    "    new_pop = \"\".join(rules.get(\"\".join(w), \".\") for w in windowed(current, 5)) \n",
    "    c = dot_count(new_pop)\n",
    "    first = first + c - 3\n",
    "    current = \".....\" + new_pop.rstrip(\".\").lstrip(\".\") + \".....\""
   ]
  },
  {
   "cell_type": "code",
   "execution_count": 6,
   "metadata": {
    "ExecuteTime": {
     "end_time": "2018-12-12T15:26:27.456614Z",
     "start_time": "2018-12-12T15:26:27.433598Z"
    },
    "run_control": {
     "marked": false
    }
   },
   "outputs": [
    {
     "data": {
      "text/plain": [
       "3421"
      ]
     },
     "execution_count": 6,
     "metadata": {},
     "output_type": "execute_result"
    }
   ],
   "source": [
    "sum(i for c, i in zip(current, range(first, len(current)+first)) if c == '#')"
   ]
  },
  {
   "cell_type": "markdown",
   "metadata": {},
   "source": [
    "# Part 2"
   ]
  },
  {
   "cell_type": "code",
   "execution_count": 7,
   "metadata": {
    "ExecuteTime": {
     "end_time": "2018-12-12T15:26:27.486604Z",
     "start_time": "2018-12-12T15:26:27.459601Z"
    }
   },
   "outputs": [],
   "source": [
    "encountered = dict()\n",
    "current = \".....\" + initial + \".....\"\n",
    "first = -5\n",
    "for i in range(100): # cycle detected at i=97\n",
    "    new_pop = \"\".join(rules.get(\"\".join(w), \".\") for w in windowed(current, 5)) \n",
    "    c = dot_count(new_pop)\n",
    "    first = first + c - 3\n",
    "    current = \".....\" + new_pop.rstrip(\".\").lstrip(\".\") + \".....\"\n",
    "\n",
    "    if current in encountered:\n",
    "        continue\n",
    "    else:\n",
    "        encountered[current] = i"
   ]
  },
  {
   "cell_type": "code",
   "execution_count": 8,
   "metadata": {
    "ExecuteTime": {
     "end_time": "2018-12-12T15:26:27.499641Z",
     "start_time": "2018-12-12T15:26:27.490600Z"
    }
   },
   "outputs": [],
   "source": [
    "first += (50000000000-100) * (c-3)"
   ]
  },
  {
   "cell_type": "code",
   "execution_count": 9,
   "metadata": {
    "ExecuteTime": {
     "end_time": "2018-12-12T15:26:27.523601Z",
     "start_time": "2018-12-12T15:26:27.503601Z"
    }
   },
   "outputs": [
    {
     "data": {
      "text/plain": [
       "2550000001195"
      ]
     },
     "execution_count": 9,
     "metadata": {},
     "output_type": "execute_result"
    }
   ],
   "source": [
    "sum(i for c, i in zip(current, range(first, len(current)+first)) if c == '#')"
   ]
  }
 ],
 "metadata": {
  "kernelspec": {
   "display_name": "Python 3",
   "language": "python",
   "name": "python3"
  },
  "language_info": {
   "codemirror_mode": {
    "name": "ipython",
    "version": 3
   },
   "file_extension": ".py",
   "mimetype": "text/x-python",
   "name": "python",
   "nbconvert_exporter": "python",
   "pygments_lexer": "ipython3",
   "version": "3.6.5"
  },
  "varInspector": {
   "cols": {
    "lenName": 16,
    "lenType": 16,
    "lenVar": 40
   },
   "kernels_config": {
    "python": {
     "delete_cmd_postfix": "",
     "delete_cmd_prefix": "del ",
     "library": "var_list.py",
     "varRefreshCmd": "print(var_dic_list())"
    },
    "r": {
     "delete_cmd_postfix": ") ",
     "delete_cmd_prefix": "rm(",
     "library": "var_list.r",
     "varRefreshCmd": "cat(var_dic_list()) "
    }
   },
   "types_to_exclude": [
    "module",
    "function",
    "builtin_function_or_method",
    "instance",
    "_Feature"
   ],
   "window_display": false
  }
 },
 "nbformat": 4,
 "nbformat_minor": 2
}
